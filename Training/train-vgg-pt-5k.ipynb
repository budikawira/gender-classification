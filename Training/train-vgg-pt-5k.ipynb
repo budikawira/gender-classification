{
 "cells": [
  {
   "cell_type": "code",
   "execution_count": 21,
   "metadata": {
    "_cell_guid": "b1076dfc-b9ad-4769-8c92-a6c4dae69d19",
    "_uuid": "8f2839f25d086af736a60e9eeb907d3b93b6e0e5",
    "execution": {
     "iopub.execute_input": "2025-05-30T08:52:44.492236Z",
     "iopub.status.busy": "2025-05-30T08:52:44.491633Z",
     "iopub.status.idle": "2025-05-30T08:52:44.496941Z",
     "shell.execute_reply": "2025-05-30T08:52:44.496201Z",
     "shell.execute_reply.started": "2025-05-30T08:52:44.492216Z"
    }
   },
   "outputs": [],
   "source": [
    "import os\n",
    "import pandas as pd\n",
    "from sklearn.model_selection import train_test_split\n",
    "import torch\n",
    "from torch.utils.data import Dataset, DataLoader\n",
    "from torchvision import transforms\n",
    "import torch.nn as nn\n",
    "import torch.optim as optim\n",
    "from torchvision import models\n",
    "import torchvision\n",
    "import time\n",
    "from torch.autograd import Variable\n",
    "from PIL import Image\n",
    "from sklearn.metrics import classification_report, confusion_matrix\n",
    "import matplotlib.pyplot as plt\n",
    "import numpy as np"
   ]
  },
  {
   "cell_type": "code",
   "execution_count": 22,
   "metadata": {
    "execution": {
     "iopub.execute_input": "2025-05-30T08:52:44.498506Z",
     "iopub.status.busy": "2025-05-30T08:52:44.498135Z",
     "iopub.status.idle": "2025-05-30T08:52:44.515210Z",
     "shell.execute_reply": "2025-05-30T08:52:44.514746Z",
     "shell.execute_reply.started": "2025-05-30T08:52:44.498491Z"
    }
   },
   "outputs": [],
   "source": [
    "data_path='./Dataset5K'\n",
    "model_path='./Models'\n",
    "eval_path='./Evaluation/Training'\n",
    "model_name='vgg_pt_5k_best.pth'\n",
    "os.makedirs(model_path, exist_ok=True)\n",
    "os.makedirs(eval_path, exist_ok=True)"
   ]
  },
  {
   "cell_type": "code",
   "execution_count": 23,
   "metadata": {
    "execution": {
     "iopub.execute_input": "2025-05-30T08:52:44.515973Z",
     "iopub.status.busy": "2025-05-30T08:52:44.515793Z",
     "iopub.status.idle": "2025-05-30T08:52:52.730460Z",
     "shell.execute_reply": "2025-05-30T08:52:52.729695Z",
     "shell.execute_reply.started": "2025-05-30T08:52:44.515960Z"
    }
   },
   "outputs": [
    {
     "name": "stderr",
     "output_type": "stream",
     "text": [
      "Downloading...\n",
      "From (original): https://drive.google.com/uc?id=15eVWQjexrUvX0EniEJcENZ5gG8kDByhB\n",
      "From (redirected): https://drive.google.com/uc?id=15eVWQjexrUvX0EniEJcENZ5gG8kDByhB&confirm=t&uuid=07f6b6f7-6dbc-4a62-a96a-32bf423c5243\n",
      "To: /kaggle/working/Dataset5K.zip\n",
      "100%|██████████| 287M/287M [00:00<00:00, 290MB/s] \n"
     ]
    },
    {
     "name": "stdout",
     "output_type": "stream",
     "text": [
      "Download completed!\n"
     ]
    }
   ],
   "source": [
    "import gdown\n",
    "import zipfile\n",
    "# File URL\n",
    "file_url = \"https://drive.google.com/uc?id=15eVWQjexrUvX0EniEJcENZ5gG8kDByhB\"\n",
    "\n",
    "# Output file name\n",
    "output = \"Dataset5K.zip\"  # Replace with desired filename and extension\n",
    "\n",
    "# Download the file\n",
    "gdown.download(file_url, output, quiet=False)\n",
    "print(\"Download completed!\")\n",
    "\n",
    "\n",
    "with zipfile.ZipFile('./Dataset5K.zip', 'r') as zip_ref:\n",
    "    zip_ref.extractall(data_path)"
   ]
  },
  {
   "cell_type": "code",
   "execution_count": 24,
   "metadata": {
    "execution": {
     "iopub.execute_input": "2025-05-30T08:52:52.732588Z",
     "iopub.status.busy": "2025-05-30T08:52:52.732207Z",
     "iopub.status.idle": "2025-05-30T08:52:52.737337Z",
     "shell.execute_reply": "2025-05-30T08:52:52.736832Z",
     "shell.execute_reply.started": "2025-05-30T08:52:52.732571Z"
    }
   },
   "outputs": [
    {
     "data": {
      "text/plain": [
       "['Images',\n",
       " 'list_attribute.txt',\n",
       " 'model_saved',\n",
       " 'gender_classification.xlsx',\n",
       " 'gender_classification.csv',\n",
       " 'class_identity.txt']"
      ]
     },
     "execution_count": 24,
     "metadata": {},
     "output_type": "execute_result"
    }
   ],
   "source": [
    "os.listdir(data_path)"
   ]
  },
  {
   "cell_type": "code",
   "execution_count": 25,
   "metadata": {
    "execution": {
     "iopub.execute_input": "2025-05-30T08:52:52.738303Z",
     "iopub.status.busy": "2025-05-30T08:52:52.738080Z",
     "iopub.status.idle": "2025-05-30T08:52:52.757461Z",
     "shell.execute_reply": "2025-05-30T08:52:52.756808Z",
     "shell.execute_reply.started": "2025-05-30T08:52:52.738287Z"
    }
   },
   "outputs": [],
   "source": [
    "images_list = os.listdir(data_path + '/Images')"
   ]
  },
  {
   "cell_type": "code",
   "execution_count": 26,
   "metadata": {
    "execution": {
     "iopub.execute_input": "2025-05-30T08:52:52.758559Z",
     "iopub.status.busy": "2025-05-30T08:52:52.758083Z",
     "iopub.status.idle": "2025-05-30T08:52:53.444409Z",
     "shell.execute_reply": "2025-05-30T08:52:53.443842Z",
     "shell.execute_reply.started": "2025-05-30T08:52:52.758544Z"
    }
   },
   "outputs": [
    {
     "data": {
      "text/html": [
       "<div>\n",
       "<style scoped>\n",
       "    .dataframe tbody tr th:only-of-type {\n",
       "        vertical-align: middle;\n",
       "    }\n",
       "\n",
       "    .dataframe tbody tr th {\n",
       "        vertical-align: top;\n",
       "    }\n",
       "\n",
       "    .dataframe thead th {\n",
       "        text-align: right;\n",
       "    }\n",
       "</style>\n",
       "<table border=\"1\" class=\"dataframe\">\n",
       "  <thead>\n",
       "    <tr style=\"text-align: right;\">\n",
       "      <th></th>\n",
       "      <th>Filename</th>\n",
       "      <th>Male</th>\n",
       "    </tr>\n",
       "  </thead>\n",
       "  <tbody>\n",
       "    <tr>\n",
       "      <th>0</th>\n",
       "      <td>000051.jpg</td>\n",
       "      <td>1</td>\n",
       "    </tr>\n",
       "    <tr>\n",
       "      <th>1</th>\n",
       "      <td>000052.jpg</td>\n",
       "      <td>1</td>\n",
       "    </tr>\n",
       "    <tr>\n",
       "      <th>2</th>\n",
       "      <td>000065.jpg</td>\n",
       "      <td>1</td>\n",
       "    </tr>\n",
       "    <tr>\n",
       "      <th>3</th>\n",
       "      <td>000166.jpg</td>\n",
       "      <td>1</td>\n",
       "    </tr>\n",
       "    <tr>\n",
       "      <th>4</th>\n",
       "      <td>000198.jpg</td>\n",
       "      <td>0</td>\n",
       "    </tr>\n",
       "  </tbody>\n",
       "</table>\n",
       "</div>"
      ],
      "text/plain": [
       "     Filename  Male\n",
       "0  000051.jpg     1\n",
       "1  000052.jpg     1\n",
       "2  000065.jpg     1\n",
       "3  000166.jpg     1\n",
       "4  000198.jpg     0"
      ]
     },
     "execution_count": 26,
     "metadata": {},
     "output_type": "execute_result"
    }
   ],
   "source": [
    "# load the data\n",
    "data = pd.read_csv(data_path + '/list_attribute.txt', sep='\\\\s+', skiprows=1)\n",
    "# filter the data with available images only (5000 images)\n",
    "filter_index = data.index.intersection(images_list)\n",
    "data = data.loc[filter_index]['Male'].reset_index().rename(columns={'index':'Filename'})\n",
    "data['Male'] = np.where(data['Male'] == 1, 1, 0)\n",
    "data.head()"
   ]
  },
  {
   "cell_type": "code",
   "execution_count": 27,
   "metadata": {
    "execution": {
     "iopub.execute_input": "2025-05-30T08:52:53.445415Z",
     "iopub.status.busy": "2025-05-30T08:52:53.445150Z",
     "iopub.status.idle": "2025-05-30T08:52:53.452173Z",
     "shell.execute_reply": "2025-05-30T08:52:53.451431Z",
     "shell.execute_reply.started": "2025-05-30T08:52:53.445389Z"
    }
   },
   "outputs": [
    {
     "data": {
      "text/plain": [
       "((4000, 2), (1000, 2))"
      ]
     },
     "execution_count": 27,
     "metadata": {},
     "output_type": "execute_result"
    }
   ],
   "source": [
    "# split the data into train and test sets with a 80:20 ratio\n",
    "train_data, test_data = train_test_split(data, test_size=0.2, random_state=42)\n",
    "train_data.shape, test_data.shape"
   ]
  },
  {
   "cell_type": "code",
   "execution_count": 28,
   "metadata": {
    "execution": {
     "iopub.execute_input": "2025-05-30T08:52:53.453354Z",
     "iopub.status.busy": "2025-05-30T08:52:53.453012Z",
     "iopub.status.idle": "2025-05-30T08:52:53.467259Z",
     "shell.execute_reply": "2025-05-30T08:52:53.466779Z",
     "shell.execute_reply.started": "2025-05-30T08:52:53.453329Z"
    }
   },
   "outputs": [],
   "source": [
    "class GenderDataset(Dataset):\n",
    "    def __init__(self, data, image_folder_path, transform=None):\n",
    "        self.data = data\n",
    "        self.image_folder_path = image_folder_path\n",
    "        self.transform = transform\n",
    "\n",
    "    def __len__(self):\n",
    "        return len(self.data)\n",
    "\n",
    "    def __getitem__(self, idx):\n",
    "        image_path = os.path.join(self.image_folder_path, self.data.iloc[idx, 0])\n",
    "        \n",
    "        # please define image convertion technique to RGB here\n",
    "        image = Image.open(image_path).convert('RGB')\n",
    "        \n",
    "        gender = self.data.iloc[idx, 1]\n",
    "        if self.transform:\n",
    "            image = self.transform(image)\n",
    "        return image, torch.tensor(gender, dtype=torch.long)"
   ]
  },
  {
   "cell_type": "code",
   "execution_count": 29,
   "metadata": {
    "execution": {
     "iopub.execute_input": "2025-05-30T08:52:53.468317Z",
     "iopub.status.busy": "2025-05-30T08:52:53.467999Z",
     "iopub.status.idle": "2025-05-30T08:52:53.484182Z",
     "shell.execute_reply": "2025-05-30T08:52:53.483686Z",
     "shell.execute_reply.started": "2025-05-30T08:52:53.468295Z"
    }
   },
   "outputs": [],
   "source": [
    "train_transform = transforms.Compose([\n",
    "    transforms.Resize((224, 224)),                 # Resize to match model input size\n",
    "    transforms.RandomHorizontalFlip(),             # Randomly flip images horizontally\n",
    "    transforms.RandomRotation(10),                 # Random rotation between -10 and 10 degrees\n",
    "    transforms.ColorJitter(brightness=0.2,         # Random brightness, contrast, saturation\n",
    "                           contrast=0.2,\n",
    "                           saturation=0.2,\n",
    "                           hue=0.1),\n",
    "    transforms.ToTensor(),                         # Convert PIL image to PyTorch tensor\n",
    "    transforms.Normalize(mean=[0.485, 0.456, 0.406],  # Normalize using ImageNet stats\n",
    "                         std=[0.229, 0.224, 0.225])\n",
    "])\n",
    "\n",
    "test_transform = transforms.Compose([\n",
    "    transforms.Resize((224, 224)),  # Resize to match model input\n",
    "    transforms.ToTensor(),\n",
    "    transforms.Normalize(mean=[0.485, 0.456, 0.406],  # Same as training\n",
    "                         std=[0.229, 0.224, 0.225])\n",
    "])"
   ]
  },
  {
   "cell_type": "code",
   "execution_count": 30,
   "metadata": {
    "execution": {
     "iopub.execute_input": "2025-05-30T08:52:53.486072Z",
     "iopub.status.busy": "2025-05-30T08:52:53.485910Z",
     "iopub.status.idle": "2025-05-30T08:52:53.506826Z",
     "shell.execute_reply": "2025-05-30T08:52:53.506216Z",
     "shell.execute_reply.started": "2025-05-30T08:52:53.486060Z"
    }
   },
   "outputs": [],
   "source": [
    "train_set = GenderDataset(train_data, image_folder_path=os.path.join(data_path, \"Images\"), transform=train_transform)\n",
    "train_loader = DataLoader(train_set, batch_size=32, shuffle=True, num_workers=0)\n",
    "\n",
    "test_set = GenderDataset(test_data, os.path.join(data_path, \"Images\"), transform=test_transform)\n",
    "test_loader = DataLoader(test_set, batch_size=32, shuffle=False, num_workers=0)"
   ]
  },
  {
   "cell_type": "code",
   "execution_count": 31,
   "metadata": {
    "execution": {
     "iopub.execute_input": "2025-05-30T08:52:53.507583Z",
     "iopub.status.busy": "2025-05-30T08:52:53.507404Z",
     "iopub.status.idle": "2025-05-30T08:52:54.017152Z",
     "shell.execute_reply": "2025-05-30T08:52:54.016630Z",
     "shell.execute_reply.started": "2025-05-30T08:52:53.507570Z"
    }
   },
   "outputs": [
    {
     "data": {
      "image/png": "[encoded data removed]",
      "text/plain": [
       "<Figure size 640x480 with 1 Axes>"
      ]
     },
     "metadata": {},
     "output_type": "display_data"
    }
   ],
   "source": [
    "def imshow(inp, title=None):\n",
    "    \"\"\"Imshow for Tensor.\"\"\"\n",
    "    inp = inp.numpy().transpose((1, 2, 0))\n",
    "    mean = np.array([0.485, 0.456, 0.406])\n",
    "    std = np.array([0.229, 0.224, 0.225])\n",
    "    inp = std * inp + mean\n",
    "    inp = np.clip(inp, 0, 1)\n",
    "    plt.imshow(inp)\n",
    "    if title is not None:\n",
    "        plt.title(title)\n",
    "    plt.pause(0.001)  # pause a bit so that plots are updated\n",
    "\n",
    "\n",
    "# Get a batch of training data\n",
    "inputs, classes = next(iter(train_loader))\n",
    "# limit to 8 images only\n",
    "inputs = inputs[:8]\n",
    "classes = classes[:8]\n",
    "# Make a grid from batch\n",
    "out = torchvision.utils.make_grid(inputs)\n",
    "\n",
    "class_names = ['female', 'male']\n",
    "imshow(out, title=[class_names[x] for x in classes])"
   ]
  },
  {
   "cell_type": "markdown",
   "metadata": {},
   "source": [
    "# Modeling"
   ]
  },
  {
   "cell_type": "code",
   "execution_count": 32,
   "metadata": {
    "execution": {
     "iopub.execute_input": "2025-05-30T08:52:54.018075Z",
     "iopub.status.busy": "2025-05-30T08:52:54.017894Z",
     "iopub.status.idle": "2025-05-30T08:52:54.027607Z",
     "shell.execute_reply": "2025-05-30T08:52:54.026905Z",
     "shell.execute_reply.started": "2025-05-30T08:52:54.018061Z"
    }
   },
   "outputs": [],
   "source": [
    "import time\n",
    "from torch.autograd import Variable\n",
    "\n",
    "def train_model(model, dataloaders, dataset_sizes, criterion, optimizer, use_gpu=torch.cuda.is_available(), num_epochs=10):\n",
    "    # please define the training model (VGG/GoogleNet/ResNet) here\n",
    "    since = time.time()\n",
    "\n",
    "    best_model_wts = model.state_dict()\n",
    "    best_acc = 0.0\n",
    "    best_epoch = 0\n",
    "\n",
    "    acc_histories = []\n",
    "    for epoch in range(num_epochs):\n",
    "        epoch_start = time.time()\n",
    "        print('Epoch {}/{}'.format(epoch, num_epochs - 1))\n",
    "        print('-' * 10)\n",
    "        acc_history = { 'train': 0, 'test': 0 }\n",
    "        # Each epoch has a training and validation phase\n",
    "        for phase in ['train', 'test']:\n",
    "            if phase == 'train':\n",
    "                #scheduler.step()\n",
    "                model.train(True)  # Set model to training mode\n",
    "            else:\n",
    "                model.train(False)  # Set model to evaluate mode\n",
    "            running_loss = 0.0\n",
    "            running_corrects = 0\n",
    "            # Iterate over data.\n",
    "            for data in dataloders[phase]:\n",
    "                 # get the inputs\n",
    "                inputs, labels = data\n",
    "                # wrap them in Variable\n",
    "                if use_gpu:\n",
    "                    inputs = Variable(inputs.cuda())\n",
    "                    labels = Variable(labels.cuda())\n",
    "                else:\n",
    "                    inputs, labels = Variable(inputs), Variable(labels)\n",
    "\n",
    "                 # zero the parameter gradients\n",
    "                optimizer.zero_grad()\n",
    "\n",
    "                # forward\n",
    "                outputs = model(inputs)\n",
    "\n",
    "                #resnet\n",
    "                _, preds = torch.max(outputs.data, 1)\n",
    "                loss = criterion(outputs, labels)\n",
    "                \n",
    "\n",
    "                # backward + optimize only if in training phase\n",
    "                if phase == 'train':\n",
    "                    \n",
    "                    loss.backward()\n",
    "                    optimizer.step()\n",
    "                    \n",
    "                 # statistics\n",
    "                running_loss += loss.data\n",
    "                running_corrects += torch.sum(preds == labels.data)\n",
    "            epoch_loss = running_loss / dataset_sizes[phase]\n",
    "            epoch_acc = running_corrects.float() / dataset_sizes[phase]\n",
    "\n",
    "            print('{} Loss: {:.4f} Acc: {:.4f}'.format(\n",
    "                phase, epoch_loss, epoch_acc))\n",
    "            acc_history[phase] = round(epoch_acc.item(), 4)\n",
    "            \n",
    "            # deep copy the model\n",
    "            if phase == 'test' and epoch_acc > best_acc:\n",
    "                best_acc = epoch_acc\n",
    "                best_model_wts = model.state_dict()\n",
    "                state = {'model':model.state_dict(),'optim':optimizer.state_dict()}\n",
    "                torch.save(state, os.path.join(model_path, model_name))\n",
    "                best_epoch = epoch\n",
    "                print(f'✅ Best model saved! (Accuracy: {best_acc:.4f})')\n",
    "        acc_histories.append(acc_history)\n",
    "        print()\n",
    "        \n",
    "    time_elapsed = time.time() - since\n",
    "    print('Training complete in {:.0f}m {:.0f}s'.format(\n",
    "        time_elapsed // 60, time_elapsed % 60))\n",
    "    print('Best test Acc: {:4f}'.format(best_acc))\n",
    "\n",
    "    # load best model weights\n",
    "    model.load_state_dict(best_model_wts)\n",
    "    return model, acc_histories, best_acc, time_elapsed, best_epoch"
   ]
  },
  {
   "cell_type": "code",
   "execution_count": 33,
   "metadata": {
    "execution": {
     "iopub.execute_input": "2025-05-30T08:52:54.028490Z",
     "iopub.status.busy": "2025-05-30T08:52:54.028250Z",
     "iopub.status.idle": "2025-05-30T08:52:56.235956Z",
     "shell.execute_reply": "2025-05-30T08:52:56.235285Z",
     "shell.execute_reply.started": "2025-05-30T08:52:54.028475Z"
    }
   },
   "outputs": [],
   "source": [
    "dataloders = {\n",
    "    \"train\":train_loader, \"test\":test_loader\n",
    "}\n",
    "dataset_sizes= {\n",
    "    \"train\":len(train_set), \"test\":len(test_set)\n",
    "}"
   ]
  },
  {
   "cell_type": "code",
   "execution_count": 34,
   "metadata": {
    "execution": {
     "iopub.execute_input": "2025-05-30T08:52:56.236893Z",
     "iopub.status.busy": "2025-05-30T08:52:56.236663Z",
     "iopub.status.idle": "2025-05-30T08:52:58.350215Z",
     "shell.execute_reply": "2025-05-30T08:52:58.349686Z",
     "shell.execute_reply.started": "2025-05-30T08:52:56.236876Z"
    }
   },
   "outputs": [],
   "source": [
    "\n",
    "model = models.vgg16(weights=models.VGG16_Weights.DEFAULT)\n",
    "\n",
    "model.classifier[-1] = nn.Linear(model.classifier[-1].in_features, 2)  # for 2 output classes: male/female\n",
    "\n",
    "use_gpu = torch.cuda.is_available()\n",
    "# use_gpu = False\n",
    "if use_gpu:\n",
    "  model = model.to(\"cuda\")\n",
    "    \n",
    "optimizer = optim.Adam(model.parameters(), lr=0.0001)\n",
    "criterion = nn.CrossEntropyLoss()\n"
   ]
  },
  {
   "cell_type": "code",
   "execution_count": 35,
   "metadata": {
    "execution": {
     "iopub.execute_input": "2025-05-30T08:52:58.351120Z",
     "iopub.status.busy": "2025-05-30T08:52:58.350874Z",
     "iopub.status.idle": "2025-05-30T09:28:23.782291Z",
     "shell.execute_reply": "2025-05-30T09:28:23.781505Z",
     "shell.execute_reply.started": "2025-05-30T08:52:58.351099Z"
    }
   },
   "outputs": [
    {
     "name": "stdout",
     "output_type": "stream",
     "text": [
      "Epoch 0/29\n",
      "----------\n",
      "train Loss: 0.0203 Acc: 0.6130\n",
      "test Loss: 0.0160 Acc: 0.7510\n",
      "✅ Best model saved! (Accuracy: 0.7510)\n",
      "\n",
      "Epoch 1/29\n",
      "----------\n",
      "train Loss: 0.0161 Acc: 0.7453\n",
      "test Loss: 0.0145 Acc: 0.7820\n",
      "✅ Best model saved! (Accuracy: 0.7820)\n",
      "\n",
      "Epoch 2/29\n",
      "----------\n",
      "train Loss: 0.0124 Acc: 0.8283\n",
      "test Loss: 0.0093 Acc: 0.9050\n",
      "✅ Best model saved! (Accuracy: 0.9050)\n",
      "\n",
      "Epoch 3/29\n",
      "----------\n",
      "train Loss: 0.0072 Acc: 0.9088\n",
      "test Loss: 0.0071 Acc: 0.9250\n",
      "✅ Best model saved! (Accuracy: 0.9250)\n",
      "\n",
      "Epoch 4/29\n",
      "----------\n",
      "train Loss: 0.0063 Acc: 0.9205\n",
      "test Loss: 0.0057 Acc: 0.9430\n",
      "✅ Best model saved! (Accuracy: 0.9430)\n",
      "\n",
      "Epoch 5/29\n",
      "----------\n",
      "train Loss: 0.0054 Acc: 0.9263\n",
      "test Loss: 0.0082 Acc: 0.9300\n",
      "\n",
      "Epoch 6/29\n",
      "----------\n",
      "train Loss: 0.0045 Acc: 0.9440\n",
      "test Loss: 0.0056 Acc: 0.9500\n",
      "✅ Best model saved! (Accuracy: 0.9500)\n",
      "\n",
      "Epoch 7/29\n",
      "----------\n",
      "train Loss: 0.0045 Acc: 0.9470\n",
      "test Loss: 0.0050 Acc: 0.9480\n",
      "\n",
      "Epoch 8/29\n",
      "----------\n",
      "train Loss: 0.0040 Acc: 0.9533\n",
      "test Loss: 0.0043 Acc: 0.9500\n",
      "\n",
      "Epoch 9/29\n",
      "----------\n",
      "train Loss: 0.0038 Acc: 0.9553\n",
      "test Loss: 0.0047 Acc: 0.9520\n",
      "✅ Best model saved! (Accuracy: 0.9520)\n",
      "\n",
      "Epoch 10/29\n",
      "----------\n",
      "train Loss: 0.0040 Acc: 0.9520\n",
      "test Loss: 0.0049 Acc: 0.9500\n",
      "\n",
      "Epoch 11/29\n",
      "----------\n",
      "train Loss: 0.0037 Acc: 0.9548\n",
      "test Loss: 0.0047 Acc: 0.9460\n",
      "\n",
      "Epoch 12/29\n",
      "----------\n",
      "train Loss: 0.0033 Acc: 0.9613\n",
      "test Loss: 0.0052 Acc: 0.9490\n",
      "\n",
      "Epoch 13/29\n",
      "----------\n",
      "train Loss: 0.0031 Acc: 0.9628\n",
      "test Loss: 0.0051 Acc: 0.9540\n",
      "✅ Best model saved! (Accuracy: 0.9540)\n",
      "\n",
      "Epoch 14/29\n",
      "----------\n",
      "train Loss: 0.0029 Acc: 0.9678\n",
      "test Loss: 0.0048 Acc: 0.9490\n",
      "\n",
      "Epoch 15/29\n",
      "----------\n",
      "train Loss: 0.0028 Acc: 0.9628\n",
      "test Loss: 0.0039 Acc: 0.9590\n",
      "✅ Best model saved! (Accuracy: 0.9590)\n",
      "\n",
      "Epoch 16/29\n",
      "----------\n",
      "train Loss: 0.0023 Acc: 0.9708\n",
      "test Loss: 0.0057 Acc: 0.9390\n",
      "\n",
      "Epoch 17/29\n",
      "----------\n",
      "train Loss: 0.0020 Acc: 0.9785\n",
      "test Loss: 0.0053 Acc: 0.9470\n",
      "\n",
      "Epoch 18/29\n",
      "----------\n",
      "train Loss: 0.0023 Acc: 0.9718\n",
      "test Loss: 0.0052 Acc: 0.9490\n",
      "\n",
      "Epoch 19/29\n",
      "----------\n",
      "train Loss: 0.0022 Acc: 0.9765\n",
      "test Loss: 0.0052 Acc: 0.9580\n",
      "\n",
      "Epoch 20/29\n",
      "----------\n",
      "train Loss: 0.0019 Acc: 0.9760\n",
      "test Loss: 0.0052 Acc: 0.9500\n",
      "\n",
      "Epoch 21/29\n",
      "----------\n",
      "train Loss: 0.0016 Acc: 0.9823\n",
      "test Loss: 0.0062 Acc: 0.9500\n",
      "\n",
      "Epoch 22/29\n",
      "----------\n",
      "train Loss: 0.0017 Acc: 0.9815\n",
      "test Loss: 0.0055 Acc: 0.9520\n",
      "\n",
      "Epoch 23/29\n",
      "----------\n",
      "train Loss: 0.0019 Acc: 0.9800\n",
      "test Loss: 0.0050 Acc: 0.9630\n",
      "✅ Best model saved! (Accuracy: 0.9630)\n",
      "\n",
      "Epoch 24/29\n",
      "----------\n",
      "train Loss: 0.0016 Acc: 0.9803\n",
      "test Loss: 0.0075 Acc: 0.9510\n",
      "\n",
      "Epoch 25/29\n",
      "----------\n",
      "train Loss: 0.0019 Acc: 0.9773\n",
      "test Loss: 0.0046 Acc: 0.9530\n",
      "\n",
      "Epoch 26/29\n",
      "----------\n",
      "train Loss: 0.0016 Acc: 0.9815\n",
      "test Loss: 0.0052 Acc: 0.9450\n",
      "\n",
      "Epoch 27/29\n",
      "----------\n",
      "train Loss: 0.0015 Acc: 0.9820\n",
      "test Loss: 0.0053 Acc: 0.9530\n",
      "\n",
      "Epoch 28/29\n",
      "----------\n",
      "train Loss: 0.0013 Acc: 0.9825\n",
      "test Loss: 0.0072 Acc: 0.9460\n",
      "\n",
      "Epoch 29/29\n",
      "----------\n",
      "train Loss: 0.0014 Acc: 0.9838\n",
      "test Loss: 0.0050 Acc: 0.9590\n",
      "\n",
      "Training complete in 35m 25s\n",
      "Best test Acc: 0.963000\n"
     ]
    }
   ],
   "source": [
    "model, acc_histories, best_acc, time_elapsed, best_epoch = train_model(model, dataloders, dataset_sizes, criterion, optimizer, use_gpu, 30)"
   ]
  },
  {
   "cell_type": "code",
   "execution_count": 36,
   "metadata": {
    "execution": {
     "iopub.execute_input": "2025-05-30T09:28:23.783622Z",
     "iopub.status.busy": "2025-05-30T09:28:23.783337Z",
     "iopub.status.idle": "2025-05-30T09:28:24.180720Z",
     "shell.execute_reply": "2025-05-30T09:28:24.179914Z",
     "shell.execute_reply.started": "2025-05-30T09:28:23.783597Z"
    }
   },
   "outputs": [
    {
     "data": {
      "image/png": "[encoded data removed]",
      "text/plain": [
       "<Figure size 640x480 with 1 Axes>"
      ]
     },
     "metadata": {},
     "output_type": "display_data"
    }
   ],
   "source": [
    "train_values = np.array([item['train'] for item in acc_histories])\n",
    "test_values = np.array([item['test'] for item in acc_histories])\n",
    "import matplotlib.pyplot as plt\n",
    "\n",
    "# Plot training and validation accuracy\n",
    "plt.plot(train_values, label='Training Accuracy')\n",
    "plt.plot(test_values, label='Validation Accuracy')\n",
    "plt.title('Training and Validation Accuracy')\n",
    "plt.xlabel('Epoch')\n",
    "plt.ylabel('Accuracy')\n",
    "plt.ylim(0.5, 1.00)\n",
    "plt.legend()\n",
    "plt.savefig(os.path.join(eval_path, model_name + '_train_acc.png'), dpi=300)\n",
    "plt.show()"
   ]
  },
  {
   "cell_type": "code",
   "execution_count": 37,
   "metadata": {
    "execution": {
     "iopub.execute_input": "2025-05-30T09:28:24.182040Z",
     "iopub.status.busy": "2025-05-30T09:28:24.181608Z",
     "iopub.status.idle": "2025-05-30T09:28:24.187602Z",
     "shell.execute_reply": "2025-05-30T09:28:24.187101Z",
     "shell.execute_reply.started": "2025-05-30T09:28:24.182008Z"
    }
   },
   "outputs": [],
   "source": [
    "df = pd.DataFrame({'train': train_values, 'test': test_values})\n",
    "df.to_csv(os.path.join(eval_path, model_name + '_train_acc.csv'))"
   ]
  },
  {
   "cell_type": "code",
   "execution_count": 38,
   "metadata": {
    "execution": {
     "iopub.execute_input": "2025-05-30T09:28:24.188612Z",
     "iopub.status.busy": "2025-05-30T09:28:24.188334Z",
     "iopub.status.idle": "2025-05-30T09:28:24.204492Z",
     "shell.execute_reply": "2025-05-30T09:28:24.203756Z",
     "shell.execute_reply.started": "2025-05-30T09:28:24.188597Z"
    }
   },
   "outputs": [],
   "source": [
    "df_sum = pd.DataFrame({'mode': [model_name], \n",
    "                       'device': [torch.cuda.get_device_name(0)], \n",
    "                       'time_elapsed' : [time_elapsed],\n",
    "                       'best_epoch': [best_epoch],\n",
    "                       'best_acc': [best_acc.cpu().item()]})\n",
    "df_sum.to_csv(os.path.join(eval_path, model_name + '_train_sum.csv'))"
   ]
  },
  {
   "cell_type": "markdown",
   "metadata": {
    "execution": {
     "iopub.execute_input": "2025-05-30T08:38:38.070546Z",
     "iopub.status.busy": "2025-05-30T08:38:38.069808Z",
     "iopub.status.idle": "2025-05-30T08:38:38.075912Z",
     "shell.execute_reply": "2025-05-30T08:38:38.074993Z",
     "shell.execute_reply.started": "2025-05-30T08:38:38.070517Z"
    }
   },
   "source": [
    "<a href=\"Models/vgg_pt_5k_best.pth\" download> Download File </a>"
   ]
  },
  {
   "cell_type": "code",
   "execution_count": null,
   "metadata": {},
   "outputs": [],
   "source": []
  }
 ],
 "metadata": {
  "kaggle": {
   "accelerator": "nvidiaTeslaT4",
   "dataSources": [],
   "dockerImageVersionId": 31041,
   "isGpuEnabled": true,
   "isInternetEnabled": true,
   "language": "python",
   "sourceType": "notebook"
  },
  "kernelspec": {
   "display_name": "Python 3 (ipykernel)",
   "language": "python",
   "name": "python3"
  },
  "language_info": {
   "codemirror_mode": {
    "name": "ipython",
    "version": 3
   },
   "file_extension": ".py",
   "mimetype": "text/x-python",
   "name": "python",
   "nbconvert_exporter": "python",
   "pygments_lexer": "ipython3",
   "version": "3.11.11"
  }
 },
 "nbformat": 4,
 "nbformat_minor": 4
}
