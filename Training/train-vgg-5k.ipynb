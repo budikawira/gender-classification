{
 "cells": [
  {
   "cell_type": "code",
   "execution_count": 1,
   "metadata": {
    "_cell_guid": "b1076dfc-b9ad-4769-8c92-a6c4dae69d19",
    "_uuid": "8f2839f25d086af736a60e9eeb907d3b93b6e0e5",
    "execution": {
     "iopub.execute_input": "2025-05-30T07:51:14.648187Z",
     "iopub.status.busy": "2025-05-30T07:51:14.647995Z",
     "iopub.status.idle": "2025-05-30T07:51:25.018601Z",
     "shell.execute_reply": "2025-05-30T07:51:25.017865Z",
     "shell.execute_reply.started": "2025-05-30T07:51:14.648171Z"
    }
   },
   "outputs": [],
   "source": [
    "import os\n",
    "import pandas as pd\n",
    "from sklearn.model_selection import train_test_split\n",
    "import torch\n",
    "from torch.utils.data import Dataset, DataLoader\n",
    "from torchvision import transforms\n",
    "import torch.nn as nn\n",
    "import torch.optim as optim\n",
    "from torchvision import models\n",
    "import torchvision\n",
    "import time\n",
    "from torch.autograd import Variable\n",
    "from PIL import Image\n",
    "from sklearn.metrics import classification_report, confusion_matrix\n",
    "import matplotlib.pyplot as plt\n",
    "import numpy as np"
   ]
  },
  {
   "cell_type": "code",
   "execution_count": 2,
   "metadata": {
    "execution": {
     "iopub.execute_input": "2025-05-30T07:51:25.020753Z",
     "iopub.status.busy": "2025-05-30T07:51:25.020377Z",
     "iopub.status.idle": "2025-05-30T07:51:25.024899Z",
     "shell.execute_reply": "2025-05-30T07:51:25.024265Z",
     "shell.execute_reply.started": "2025-05-30T07:51:25.020733Z"
    }
   },
   "outputs": [],
   "source": [
    "data_path='/kaggle/working/Dataset5K'\n",
    "model_path='/kaggle/working/Models'\n",
    "eval_path='/kaggle/working/Evaluation/Training'\n",
    "model_name='vgg_5k_best.pth'\n",
    "os.makedirs(model_path, exist_ok=True)\n",
    "os.makedirs(eval_path, exist_ok=True)"
   ]
  },
  {
   "cell_type": "code",
   "execution_count": 3,
   "metadata": {
    "execution": {
     "iopub.execute_input": "2025-05-30T07:51:25.026103Z",
     "iopub.status.busy": "2025-05-30T07:51:25.025860Z",
     "iopub.status.idle": "2025-05-30T07:51:35.917599Z",
     "shell.execute_reply": "2025-05-30T07:51:35.917018Z",
     "shell.execute_reply.started": "2025-05-30T07:51:25.026081Z"
    }
   },
   "outputs": [
    {
     "name": "stderr",
     "output_type": "stream",
     "text": [
      "Downloading...\n",
      "From (original): https://drive.google.com/uc?id=15eVWQjexrUvX0EniEJcENZ5gG8kDByhB\n",
      "From (redirected): https://drive.google.com/uc?id=15eVWQjexrUvX0EniEJcENZ5gG8kDByhB&confirm=t&uuid=159fea71-4045-479e-8b45-ba3fc95e44fa\n",
      "To: /kaggle/working/Dataset5K.zip\n",
      "100%|██████████| 287M/287M [00:04<00:00, 68.1MB/s] \n"
     ]
    },
    {
     "name": "stdout",
     "output_type": "stream",
     "text": [
      "Download completed!\n"
     ]
    }
   ],
   "source": [
    "import gdown\n",
    "import zipfile\n",
    "# File URL\n",
    "file_url = \"https://drive.google.com/uc?id=15eVWQjexrUvX0EniEJcENZ5gG8kDByhB\"\n",
    "\n",
    "# Output file name\n",
    "output = \"Dataset5K.zip\"  # Replace with desired filename and extension\n",
    "\n",
    "# Download the file\n",
    "gdown.download(file_url, output, quiet=False)\n",
    "print(\"Download completed!\")\n",
    "\n",
    "\n",
    "with zipfile.ZipFile('./Dataset5K.zip', 'r') as zip_ref:\n",
    "    zip_ref.extractall(data_path)"
   ]
  },
  {
   "cell_type": "code",
   "execution_count": 4,
   "metadata": {
    "execution": {
     "iopub.execute_input": "2025-05-30T07:51:35.918623Z",
     "iopub.status.busy": "2025-05-30T07:51:35.918277Z",
     "iopub.status.idle": "2025-05-30T07:51:35.924894Z",
     "shell.execute_reply": "2025-05-30T07:51:35.924314Z",
     "shell.execute_reply.started": "2025-05-30T07:51:35.918607Z"
    }
   },
   "outputs": [
    {
     "data": {
      "text/plain": [
       "['Images',\n",
       " 'list_attribute.txt',\n",
       " 'model_saved',\n",
       " 'gender_classification.xlsx',\n",
       " 'gender_classification.csv',\n",
       " 'class_identity.txt']"
      ]
     },
     "execution_count": 4,
     "metadata": {},
     "output_type": "execute_result"
    }
   ],
   "source": [
    "os.listdir(data_path)"
   ]
  },
  {
   "cell_type": "code",
   "execution_count": 5,
   "metadata": {
    "execution": {
     "iopub.execute_input": "2025-05-30T07:51:35.925892Z",
     "iopub.status.busy": "2025-05-30T07:51:35.925609Z",
     "iopub.status.idle": "2025-05-30T07:51:35.949520Z",
     "shell.execute_reply": "2025-05-30T07:51:35.948989Z",
     "shell.execute_reply.started": "2025-05-30T07:51:35.925869Z"
    }
   },
   "outputs": [],
   "source": [
    "images_list = os.listdir(data_path + '/Images')"
   ]
  },
  {
   "cell_type": "code",
   "execution_count": 6,
   "metadata": {
    "execution": {
     "iopub.execute_input": "2025-05-30T07:51:35.950532Z",
     "iopub.status.busy": "2025-05-30T07:51:35.950290Z",
     "iopub.status.idle": "2025-05-30T07:51:36.752247Z",
     "shell.execute_reply": "2025-05-30T07:51:36.751484Z",
     "shell.execute_reply.started": "2025-05-30T07:51:35.950511Z"
    }
   },
   "outputs": [
    {
     "data": {
      "text/html": [
       "<div>\n",
       "<style scoped>\n",
       "    .dataframe tbody tr th:only-of-type {\n",
       "        vertical-align: middle;\n",
       "    }\n",
       "\n",
       "    .dataframe tbody tr th {\n",
       "        vertical-align: top;\n",
       "    }\n",
       "\n",
       "    .dataframe thead th {\n",
       "        text-align: right;\n",
       "    }\n",
       "</style>\n",
       "<table border=\"1\" class=\"dataframe\">\n",
       "  <thead>\n",
       "    <tr style=\"text-align: right;\">\n",
       "      <th></th>\n",
       "      <th>Filename</th>\n",
       "      <th>Male</th>\n",
       "    </tr>\n",
       "  </thead>\n",
       "  <tbody>\n",
       "    <tr>\n",
       "      <th>0</th>\n",
       "      <td>000051.jpg</td>\n",
       "      <td>1</td>\n",
       "    </tr>\n",
       "    <tr>\n",
       "      <th>1</th>\n",
       "      <td>000052.jpg</td>\n",
       "      <td>1</td>\n",
       "    </tr>\n",
       "    <tr>\n",
       "      <th>2</th>\n",
       "      <td>000065.jpg</td>\n",
       "      <td>1</td>\n",
       "    </tr>\n",
       "    <tr>\n",
       "      <th>3</th>\n",
       "      <td>000166.jpg</td>\n",
       "      <td>1</td>\n",
       "    </tr>\n",
       "    <tr>\n",
       "      <th>4</th>\n",
       "      <td>000198.jpg</td>\n",
       "      <td>0</td>\n",
       "    </tr>\n",
       "  </tbody>\n",
       "</table>\n",
       "</div>"
      ],
      "text/plain": [
       "     Filename  Male\n",
       "0  000051.jpg     1\n",
       "1  000052.jpg     1\n",
       "2  000065.jpg     1\n",
       "3  000166.jpg     1\n",
       "4  000198.jpg     0"
      ]
     },
     "execution_count": 6,
     "metadata": {},
     "output_type": "execute_result"
    }
   ],
   "source": [
    "# load the data\n",
    "data = pd.read_csv(data_path + '/list_attribute.txt', sep='\\\\s+', skiprows=1)\n",
    "# filter the data with available images only (5000 images)\n",
    "filter_index = data.index.intersection(images_list)\n",
    "data = data.loc[filter_index]['Male'].reset_index().rename(columns={'index':'Filename'})\n",
    "data['Male'] = np.where(data['Male'] == 1, 1, 0)\n",
    "data.head()"
   ]
  },
  {
   "cell_type": "code",
   "execution_count": 7,
   "metadata": {
    "execution": {
     "iopub.execute_input": "2025-05-30T07:51:36.754398Z",
     "iopub.status.busy": "2025-05-30T07:51:36.754205Z",
     "iopub.status.idle": "2025-05-30T07:51:36.763159Z",
     "shell.execute_reply": "2025-05-30T07:51:36.762554Z",
     "shell.execute_reply.started": "2025-05-30T07:51:36.754384Z"
    }
   },
   "outputs": [
    {
     "data": {
      "text/plain": [
       "((4000, 2), (1000, 2))"
      ]
     },
     "execution_count": 7,
     "metadata": {},
     "output_type": "execute_result"
    }
   ],
   "source": [
    "# split the data into train and test sets with a 80:20 ratio\n",
    "train_data, test_data = train_test_split(data, test_size=0.2, random_state=42)\n",
    "train_data.shape, test_data.shape"
   ]
  },
  {
   "cell_type": "code",
   "execution_count": 8,
   "metadata": {
    "execution": {
     "iopub.execute_input": "2025-05-30T07:51:36.764182Z",
     "iopub.status.busy": "2025-05-30T07:51:36.763913Z",
     "iopub.status.idle": "2025-05-30T07:51:36.776768Z",
     "shell.execute_reply": "2025-05-30T07:51:36.776218Z",
     "shell.execute_reply.started": "2025-05-30T07:51:36.764158Z"
    }
   },
   "outputs": [],
   "source": [
    "class GenderDataset(Dataset):\n",
    "    def __init__(self, data, image_folder_path, transform=None):\n",
    "        self.data = data\n",
    "        self.image_folder_path = image_folder_path\n",
    "        self.transform = transform\n",
    "\n",
    "    def __len__(self):\n",
    "        return len(self.data)\n",
    "\n",
    "    def __getitem__(self, idx):\n",
    "        image_path = os.path.join(self.image_folder_path, self.data.iloc[idx, 0])\n",
    "        \n",
    "        # please define image convertion technique to RGB here\n",
    "        image = Image.open(image_path).convert('RGB')\n",
    "        \n",
    "        gender = self.data.iloc[idx, 1]\n",
    "        if self.transform:\n",
    "            image = self.transform(image)\n",
    "        return image, torch.tensor(gender, dtype=torch.long)"
   ]
  },
  {
   "cell_type": "code",
   "execution_count": 9,
   "metadata": {
    "execution": {
     "iopub.execute_input": "2025-05-30T07:51:36.777705Z",
     "iopub.status.busy": "2025-05-30T07:51:36.777460Z",
     "iopub.status.idle": "2025-05-30T07:51:36.795244Z",
     "shell.execute_reply": "2025-05-30T07:51:36.794597Z",
     "shell.execute_reply.started": "2025-05-30T07:51:36.777686Z"
    }
   },
   "outputs": [],
   "source": [
    "train_transform = transforms.Compose([\n",
    "    transforms.Resize((224, 224)),                 # Resize to match model input size\n",
    "    transforms.RandomHorizontalFlip(),             # Randomly flip images horizontally\n",
    "    transforms.RandomRotation(10),                 # Random rotation between -10 and 10 degrees\n",
    "    transforms.ColorJitter(brightness=0.2,         # Random brightness, contrast, saturation\n",
    "                           contrast=0.2,\n",
    "                           saturation=0.2,\n",
    "                           hue=0.1),\n",
    "    transforms.ToTensor(),                         # Convert PIL image to PyTorch tensor\n",
    "    transforms.Normalize(mean=[0.485, 0.456, 0.406],  # Normalize using ImageNet stats\n",
    "                         std=[0.229, 0.224, 0.225])\n",
    "])\n",
    "\n",
    "test_transform = transforms.Compose([\n",
    "    transforms.Resize((224, 224)),  # Resize to match model input\n",
    "    transforms.ToTensor(),\n",
    "    transforms.Normalize(mean=[0.485, 0.456, 0.406],  # Same as training\n",
    "                         std=[0.229, 0.224, 0.225])\n",
    "])"
   ]
  },
  {
   "cell_type": "code",
   "execution_count": 10,
   "metadata": {
    "execution": {
     "iopub.execute_input": "2025-05-30T07:51:36.796095Z",
     "iopub.status.busy": "2025-05-30T07:51:36.795867Z",
     "iopub.status.idle": "2025-05-30T07:51:36.810012Z",
     "shell.execute_reply": "2025-05-30T07:51:36.809372Z",
     "shell.execute_reply.started": "2025-05-30T07:51:36.796079Z"
    }
   },
   "outputs": [],
   "source": [
    "train_set = GenderDataset(train_data, image_folder_path=os.path.join(data_path, \"Images\"), transform=train_transform)\n",
    "train_loader = DataLoader(train_set, batch_size=32, shuffle=True, num_workers=0)\n",
    "\n",
    "test_set = GenderDataset(test_data, os.path.join(data_path, \"Images\"), transform=test_transform)\n",
    "test_loader = DataLoader(test_set, batch_size=32, shuffle=False, num_workers=0)"
   ]
  },
  {
   "cell_type": "code",
   "execution_count": 11,
   "metadata": {
    "execution": {
     "iopub.execute_input": "2025-05-30T07:51:36.810851Z",
     "iopub.status.busy": "2025-05-30T07:51:36.810634Z",
     "iopub.status.idle": "2025-05-30T07:51:37.485128Z",
     "shell.execute_reply": "2025-05-30T07:51:37.484362Z",
     "shell.execute_reply.started": "2025-05-30T07:51:36.810828Z"
    }
   },
   "outputs": [
    {
     "data": {
      "image/png": "[encoded data removed]",
      "text/plain": [
       "<Figure size 640x480 with 1 Axes>"
      ]
     },
     "metadata": {},
     "output_type": "display_data"
    }
   ],
   "source": [
    "def imshow(inp, title=None):\n",
    "    \"\"\"Imshow for Tensor.\"\"\"\n",
    "    inp = inp.numpy().transpose((1, 2, 0))\n",
    "    mean = np.array([0.485, 0.456, 0.406])\n",
    "    std = np.array([0.229, 0.224, 0.225])\n",
    "    inp = std * inp + mean\n",
    "    inp = np.clip(inp, 0, 1)\n",
    "    plt.imshow(inp)\n",
    "    if title is not None:\n",
    "        plt.title(title)\n",
    "    plt.pause(0.001)  # pause a bit so that plots are updated\n",
    "\n",
    "\n",
    "# Get a batch of training data\n",
    "inputs, classes = next(iter(train_loader))\n",
    "# limit to 8 images only\n",
    "inputs = inputs[:8]\n",
    "classes = classes[:8]\n",
    "# Make a grid from batch\n",
    "out = torchvision.utils.make_grid(inputs)\n",
    "\n",
    "class_names = ['female', 'male']\n",
    "imshow(out, title=[class_names[x] for x in classes])"
   ]
  },
  {
   "cell_type": "markdown",
   "metadata": {},
   "source": [
    "# Modeling"
   ]
  },
  {
   "cell_type": "code",
   "execution_count": 12,
   "metadata": {
    "execution": {
     "iopub.execute_input": "2025-05-30T07:51:37.486284Z",
     "iopub.status.busy": "2025-05-30T07:51:37.486008Z",
     "iopub.status.idle": "2025-05-30T07:51:37.572375Z",
     "shell.execute_reply": "2025-05-30T07:51:37.571560Z",
     "shell.execute_reply.started": "2025-05-30T07:51:37.486259Z"
    }
   },
   "outputs": [],
   "source": [
    "import time\n",
    "from torch.autograd import Variable\n",
    "\n",
    "def train_model(model, dataloaders, dataset_sizes, criterion, optimizer, use_gpu=torch.cuda.is_available(), num_epochs=10):\n",
    "    # please define the training model (VGG/GoogleNet/ResNet) here\n",
    "    since = time.time()\n",
    "\n",
    "    best_model_wts = model.state_dict()\n",
    "    best_acc = 0.0\n",
    "    best_epoch = 0\n",
    "\n",
    "    acc_histories = []\n",
    "    for epoch in range(num_epochs):\n",
    "        epoch_start = time.time()\n",
    "        print('Epoch {}/{}'.format(epoch, num_epochs - 1))\n",
    "        print('-' * 10)\n",
    "        acc_history = { 'train': 0, 'test': 0 }\n",
    "        # Each epoch has a training and validation phase\n",
    "        for phase in ['train', 'test']:\n",
    "            if phase == 'train':\n",
    "                #scheduler.step()\n",
    "                model.train(True)  # Set model to training mode\n",
    "            else:\n",
    "                model.train(False)  # Set model to evaluate mode\n",
    "            running_loss = 0.0\n",
    "            running_corrects = 0\n",
    "            # Iterate over data.\n",
    "            for data in dataloders[phase]:\n",
    "                 # get the inputs\n",
    "                inputs, labels = data\n",
    "                # wrap them in Variable\n",
    "                if use_gpu:\n",
    "                    inputs = Variable(inputs.cuda())\n",
    "                    labels = Variable(labels.cuda())\n",
    "                else:\n",
    "                    inputs, labels = Variable(inputs), Variable(labels)\n",
    "\n",
    "                 # zero the parameter gradients\n",
    "                optimizer.zero_grad()\n",
    "\n",
    "                # forward\n",
    "                outputs = model(inputs)\n",
    "\n",
    "                #resnet\n",
    "                _, preds = torch.max(outputs.data, 1)\n",
    "                loss = criterion(outputs, labels)\n",
    "                \n",
    "\n",
    "                # backward + optimize only if in training phase\n",
    "                if phase == 'train':\n",
    "                    \n",
    "                    loss.backward()\n",
    "                    optimizer.step()\n",
    "                    \n",
    "                 # statistics\n",
    "                running_loss += loss.data\n",
    "                running_corrects += torch.sum(preds == labels.data)\n",
    "            epoch_loss = running_loss / dataset_sizes[phase]\n",
    "            epoch_acc = running_corrects.float() / dataset_sizes[phase]\n",
    "\n",
    "            print('{} Loss: {:.4f} Acc: {:.4f}'.format(\n",
    "                phase, epoch_loss, epoch_acc))\n",
    "            acc_history[phase] = round(epoch_acc.item(), 4)\n",
    "            \n",
    "            # deep copy the model\n",
    "            if phase == 'test' and epoch_acc > best_acc:\n",
    "                best_acc = epoch_acc\n",
    "                best_model_wts = model.state_dict()\n",
    "                state = {'model':model.state_dict(),'optim':optimizer.state_dict()}\n",
    "                torch.save(state, os.path.join(model_path, model_name))\n",
    "                best_epoch = epoch\n",
    "                print(f'✅ Best model saved! (Accuracy: {best_acc:.4f})')\n",
    "        acc_histories.append(acc_history)\n",
    "        print()\n",
    "        \n",
    "    time_elapsed = time.time() - since\n",
    "    print('Training complete in {:.0f}m {:.0f}s'.format(\n",
    "        time_elapsed // 60, time_elapsed % 60))\n",
    "    print('Best test Acc: {:4f}'.format(best_acc))\n",
    "\n",
    "    # load best model weights\n",
    "    model.load_state_dict(best_model_wts)\n",
    "    return model, acc_histories, best_acc, time_elapsed, best_epoch"
   ]
  },
  {
   "cell_type": "code",
   "execution_count": 13,
   "metadata": {
    "execution": {
     "iopub.execute_input": "2025-05-30T07:51:37.573440Z",
     "iopub.status.busy": "2025-05-30T07:51:37.573179Z",
     "iopub.status.idle": "2025-05-30T07:51:37.592953Z",
     "shell.execute_reply": "2025-05-30T07:51:37.592249Z",
     "shell.execute_reply.started": "2025-05-30T07:51:37.573419Z"
    }
   },
   "outputs": [],
   "source": [
    "dataloders = {\n",
    "    \"train\":train_loader, \"test\":test_loader\n",
    "}\n",
    "dataset_sizes= {\n",
    "    \"train\":len(train_set), \"test\":len(test_set)\n",
    "}"
   ]
  },
  {
   "cell_type": "code",
   "execution_count": 14,
   "metadata": {
    "execution": {
     "iopub.execute_input": "2025-05-30T07:51:37.594018Z",
     "iopub.status.busy": "2025-05-30T07:51:37.593784Z",
     "iopub.status.idle": "2025-05-30T07:51:39.986402Z",
     "shell.execute_reply": "2025-05-30T07:51:39.985883Z",
     "shell.execute_reply.started": "2025-05-30T07:51:37.594000Z"
    }
   },
   "outputs": [],
   "source": [
    "\n",
    "# model = models.resnet18(weights=models.ResNet18_Weights.DEFAULT)\n",
    "model = models.vgg16()\n",
    "\n",
    "model.classifier[-1] = nn.Linear(model.classifier[-1].in_features, 2)  # for 2 output classes: male/female\n",
    "\n",
    "use_gpu = torch.cuda.is_available()\n",
    "# use_gpu = False\n",
    "if use_gpu:\n",
    "  model = model.to(\"cuda\")\n",
    "    \n",
    "optimizer = optim.Adam(model.parameters(), lr=0.0001)\n",
    "criterion = nn.CrossEntropyLoss()\n"
   ]
  },
  {
   "cell_type": "code",
   "execution_count": 15,
   "metadata": {
    "execution": {
     "iopub.execute_input": "2025-05-30T07:51:39.987254Z",
     "iopub.status.busy": "2025-05-30T07:51:39.987074Z",
     "iopub.status.idle": "2025-05-30T08:27:13.294221Z",
     "shell.execute_reply": "2025-05-30T08:27:13.293442Z",
     "shell.execute_reply.started": "2025-05-30T07:51:39.987241Z"
    }
   },
   "outputs": [
    {
     "name": "stdout",
     "output_type": "stream",
     "text": [
      "Epoch 0/29\n",
      "----------\n",
      "train Loss: 0.0213 Acc: 0.5830\n",
      "test Loss: 0.0219 Acc: 0.5960\n",
      "✅ Best model saved! (Accuracy: 0.5960)\n",
      "\n",
      "Epoch 1/29\n",
      "----------\n",
      "train Loss: 0.0194 Acc: 0.6520\n",
      "test Loss: 0.0164 Acc: 0.7450\n",
      "✅ Best model saved! (Accuracy: 0.7450)\n",
      "\n",
      "Epoch 2/29\n",
      "----------\n",
      "train Loss: 0.0163 Acc: 0.7543\n",
      "test Loss: 0.0137 Acc: 0.8010\n",
      "✅ Best model saved! (Accuracy: 0.8010)\n",
      "\n",
      "Epoch 3/29\n",
      "----------\n",
      "train Loss: 0.0121 Acc: 0.8230\n",
      "test Loss: 0.0098 Acc: 0.8690\n",
      "✅ Best model saved! (Accuracy: 0.8690)\n",
      "\n",
      "Epoch 4/29\n",
      "----------\n",
      "train Loss: 0.0083 Acc: 0.8845\n",
      "test Loss: 0.0067 Acc: 0.9240\n",
      "✅ Best model saved! (Accuracy: 0.9240)\n",
      "\n",
      "Epoch 5/29\n",
      "----------\n",
      "train Loss: 0.0065 Acc: 0.9163\n",
      "test Loss: 0.0070 Acc: 0.9210\n",
      "\n",
      "Epoch 6/29\n",
      "----------\n",
      "train Loss: 0.0057 Acc: 0.9283\n",
      "test Loss: 0.0057 Acc: 0.9400\n",
      "✅ Best model saved! (Accuracy: 0.9400)\n",
      "\n",
      "Epoch 7/29\n",
      "----------\n",
      "train Loss: 0.0051 Acc: 0.9330\n",
      "test Loss: 0.0075 Acc: 0.9130\n",
      "\n",
      "Epoch 8/29\n",
      "----------\n",
      "train Loss: 0.0044 Acc: 0.9448\n",
      "test Loss: 0.0050 Acc: 0.9470\n",
      "✅ Best model saved! (Accuracy: 0.9470)\n",
      "\n",
      "Epoch 9/29\n",
      "----------\n",
      "train Loss: 0.0044 Acc: 0.9445\n",
      "test Loss: 0.0054 Acc: 0.9360\n",
      "\n",
      "Epoch 10/29\n",
      "----------\n",
      "train Loss: 0.0039 Acc: 0.9495\n",
      "test Loss: 0.0045 Acc: 0.9440\n",
      "\n",
      "Epoch 11/29\n",
      "----------\n",
      "train Loss: 0.0035 Acc: 0.9563\n",
      "test Loss: 0.0054 Acc: 0.9390\n",
      "\n",
      "Epoch 12/29\n",
      "----------\n",
      "train Loss: 0.0035 Acc: 0.9558\n",
      "test Loss: 0.0049 Acc: 0.9420\n",
      "\n",
      "Epoch 13/29\n",
      "----------\n",
      "train Loss: 0.0033 Acc: 0.9643\n",
      "test Loss: 0.0052 Acc: 0.9510\n",
      "✅ Best model saved! (Accuracy: 0.9510)\n",
      "\n",
      "Epoch 14/29\n",
      "----------\n",
      "train Loss: 0.0028 Acc: 0.9658\n",
      "test Loss: 0.0044 Acc: 0.9590\n",
      "✅ Best model saved! (Accuracy: 0.9590)\n",
      "\n",
      "Epoch 15/29\n",
      "----------\n",
      "train Loss: 0.0030 Acc: 0.9653\n",
      "test Loss: 0.0041 Acc: 0.9600\n",
      "✅ Best model saved! (Accuracy: 0.9600)\n",
      "\n",
      "Epoch 16/29\n",
      "----------\n",
      "train Loss: 0.0027 Acc: 0.9678\n",
      "test Loss: 0.0056 Acc: 0.9480\n",
      "\n",
      "Epoch 17/29\n",
      "----------\n",
      "train Loss: 0.0026 Acc: 0.9695\n",
      "test Loss: 0.0038 Acc: 0.9580\n",
      "\n",
      "Epoch 18/29\n",
      "----------\n",
      "train Loss: 0.0022 Acc: 0.9720\n",
      "test Loss: 0.0049 Acc: 0.9600\n",
      "\n",
      "Epoch 19/29\n",
      "----------\n",
      "train Loss: 0.0024 Acc: 0.9713\n",
      "test Loss: 0.0044 Acc: 0.9590\n",
      "\n",
      "Epoch 20/29\n",
      "----------\n",
      "train Loss: 0.0020 Acc: 0.9753\n",
      "test Loss: 0.0062 Acc: 0.9490\n",
      "\n",
      "Epoch 21/29\n",
      "----------\n",
      "train Loss: 0.0021 Acc: 0.9763\n",
      "test Loss: 0.0050 Acc: 0.9570\n",
      "\n",
      "Epoch 22/29\n",
      "----------\n",
      "train Loss: 0.0020 Acc: 0.9760\n",
      "test Loss: 0.0056 Acc: 0.9550\n",
      "\n",
      "Epoch 23/29\n",
      "----------\n",
      "train Loss: 0.0016 Acc: 0.9805\n",
      "test Loss: 0.0057 Acc: 0.9490\n",
      "\n",
      "Epoch 24/29\n",
      "----------\n",
      "train Loss: 0.0017 Acc: 0.9815\n",
      "test Loss: 0.0054 Acc: 0.9640\n",
      "✅ Best model saved! (Accuracy: 0.9640)\n",
      "\n",
      "Epoch 25/29\n",
      "----------\n",
      "train Loss: 0.0015 Acc: 0.9815\n",
      "test Loss: 0.0058 Acc: 0.9520\n",
      "\n",
      "Epoch 26/29\n",
      "----------\n",
      "train Loss: 0.0016 Acc: 0.9823\n",
      "test Loss: 0.0056 Acc: 0.9570\n",
      "\n",
      "Epoch 27/29\n",
      "----------\n",
      "train Loss: 0.0017 Acc: 0.9805\n",
      "test Loss: 0.0057 Acc: 0.9540\n",
      "\n",
      "Epoch 28/29\n",
      "----------\n",
      "train Loss: 0.0014 Acc: 0.9845\n",
      "test Loss: 0.0056 Acc: 0.9580\n",
      "\n",
      "Epoch 29/29\n",
      "----------\n",
      "train Loss: 0.0015 Acc: 0.9813\n",
      "test Loss: 0.0066 Acc: 0.9620\n",
      "\n",
      "Training complete in 35m 33s\n",
      "Best test Acc: 0.964000\n"
     ]
    }
   ],
   "source": [
    "model, acc_histories, best_acc, time_elapsed, best_epoch = train_model(model, dataloders, dataset_sizes, criterion, optimizer, use_gpu, 30)"
   ]
  },
  {
   "cell_type": "code",
   "execution_count": 16,
   "metadata": {
    "execution": {
     "iopub.execute_input": "2025-05-30T08:27:13.295835Z",
     "iopub.status.busy": "2025-05-30T08:27:13.295113Z",
     "iopub.status.idle": "2025-05-30T08:27:13.708481Z",
     "shell.execute_reply": "2025-05-30T08:27:13.707798Z",
     "shell.execute_reply.started": "2025-05-30T08:27:13.295817Z"
    }
   },
   "outputs": [
    {
     "data": {
      "image/png": "[encoded data removed]",
      "text/plain": [
       "<Figure size 640x480 with 1 Axes>"
      ]
     },
     "metadata": {},
     "output_type": "display_data"
    }
   ],
   "source": [
    "train_values = np.array([item['train'] for item in acc_histories])\n",
    "test_values = np.array([item['test'] for item in acc_histories])\n",
    "import matplotlib.pyplot as plt\n",
    "\n",
    "# Plot training and validation accuracy\n",
    "plt.plot(train_values, label='Training Accuracy')\n",
    "plt.plot(test_values, label='Validation Accuracy')\n",
    "plt.title('Training and Validation Accuracy')\n",
    "plt.xlabel('Epoch')\n",
    "plt.ylabel('Accuracy')\n",
    "plt.ylim(0.5, 1.00)\n",
    "plt.legend()\n",
    "plt.savefig(os.path.join(eval_path, model_name + '_train_acc.png'), dpi=300)\n",
    "plt.show()"
   ]
  },
  {
   "cell_type": "code",
   "execution_count": 17,
   "metadata": {
    "execution": {
     "iopub.execute_input": "2025-05-30T08:27:13.709371Z",
     "iopub.status.busy": "2025-05-30T08:27:13.709142Z",
     "iopub.status.idle": "2025-05-30T08:27:13.719407Z",
     "shell.execute_reply": "2025-05-30T08:27:13.718684Z",
     "shell.execute_reply.started": "2025-05-30T08:27:13.709348Z"
    }
   },
   "outputs": [],
   "source": [
    "df = pd.DataFrame({'train': train_values, 'test': test_values})\n",
    "df.to_csv(os.path.join(eval_path, model_name + '_train_acc.csv'))"
   ]
  },
  {
   "cell_type": "code",
   "execution_count": 18,
   "metadata": {
    "execution": {
     "iopub.execute_input": "2025-05-30T08:27:13.720401Z",
     "iopub.status.busy": "2025-05-30T08:27:13.720104Z",
     "iopub.status.idle": "2025-05-30T08:27:13.732557Z",
     "shell.execute_reply": "2025-05-30T08:27:13.731981Z",
     "shell.execute_reply.started": "2025-05-30T08:27:13.720382Z"
    }
   },
   "outputs": [],
   "source": [
    "df_sum = pd.DataFrame({'mode': [model_name], \n",
    "                       'device': [torch.cuda.get_device_name(0)], \n",
    "                       'time_elapsed' : [time_elapsed],\n",
    "                       'best_epoch': [best_epoch],\n",
    "                       'best_acc': [best_acc.cpu().item()]})\n",
    "df_sum.to_csv(os.path.join(eval_path, model_name + '_train_sum.csv'))"
   ]
  }
 ],
 "metadata": {
  "kaggle": {
   "accelerator": "nvidiaTeslaT4",
   "dataSources": [],
   "dockerImageVersionId": 31041,
   "isGpuEnabled": true,
   "isInternetEnabled": true,
   "language": "python",
   "sourceType": "notebook"
  },
  "kernelspec": {
   "display_name": "Python 3 (ipykernel)",
   "language": "python",
   "name": "python3"
  },
  "language_info": {
   "codemirror_mode": {
    "name": "ipython",
    "version": 3
   },
   "file_extension": ".py",
   "mimetype": "text/x-python",
   "name": "python",
   "nbconvert_exporter": "python",
   "pygments_lexer": "ipython3",
   "version": "3.12.9"
  }
 },
 "nbformat": 4,
 "nbformat_minor": 4
}
