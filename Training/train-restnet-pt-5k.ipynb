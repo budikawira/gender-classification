{
 "cells": [
  {
   "cell_type": "code",
   "execution_count": 1,
   "metadata": {
    "_cell_guid": "b1076dfc-b9ad-4769-8c92-a6c4dae69d19",
    "_uuid": "8f2839f25d086af736a60e9eeb907d3b93b6e0e5",
    "execution": {
     "iopub.execute_input": "2025-05-30T07:12:18.157283Z",
     "iopub.status.busy": "2025-05-30T07:12:18.157013Z",
     "iopub.status.idle": "2025-05-30T07:12:31.048955Z",
     "shell.execute_reply": "2025-05-30T07:12:31.048403Z",
     "shell.execute_reply.started": "2025-05-30T07:12:18.157260Z"
    }
   },
   "outputs": [],
   "source": [
    "import os\n",
    "import pandas as pd\n",
    "from sklearn.model_selection import train_test_split\n",
    "import torch\n",
    "from torch.utils.data import Dataset, DataLoader\n",
    "from torchvision import transforms\n",
    "import torch.nn as nn\n",
    "import torch.optim as optim\n",
    "from torchvision import models\n",
    "import torchvision\n",
    "import time\n",
    "from torch.autograd import Variable\n",
    "from PIL import Image\n",
    "from sklearn.metrics import classification_report, confusion_matrix\n",
    "import matplotlib.pyplot as plt\n",
    "import numpy as np"
   ]
  },
  {
   "cell_type": "markdown",
   "metadata": {},
   "source": [
    "# Data Preparation"
   ]
  },
  {
   "cell_type": "code",
   "execution_count": 2,
   "metadata": {
    "execution": {
     "iopub.execute_input": "2025-05-30T07:12:31.050036Z",
     "iopub.status.busy": "2025-05-30T07:12:31.049697Z",
     "iopub.status.idle": "2025-05-30T07:12:31.054854Z",
     "shell.execute_reply": "2025-05-30T07:12:31.054051Z",
     "shell.execute_reply.started": "2025-05-30T07:12:31.050017Z"
    }
   },
   "outputs": [],
   "source": [
    "data_path='./Dataset5K'\n",
    "model_path='./Models'\n",
    "eval_path='./Evaluation/Training'\n",
    "model_name='resnet_pt_5k_best.pth'\n",
    "os.makedirs(model_path, exist_ok=True)\n",
    "os.makedirs(eval_path, exist_ok=True)"
   ]
  },
  {
   "cell_type": "code",
   "execution_count": 3,
   "metadata": {
    "execution": {
     "iopub.execute_input": "2025-05-30T07:12:31.056619Z",
     "iopub.status.busy": "2025-05-30T07:12:31.056403Z",
     "iopub.status.idle": "2025-05-30T07:12:41.555903Z",
     "shell.execute_reply": "2025-05-30T07:12:41.555275Z",
     "shell.execute_reply.started": "2025-05-30T07:12:31.056602Z"
    }
   },
   "outputs": [
    {
     "name": "stderr",
     "output_type": "stream",
     "text": [
      "Downloading...\n",
      "From (original): https://drive.google.com/uc?id=15eVWQjexrUvX0EniEJcENZ5gG8kDByhB\n",
      "From (redirected): https://drive.google.com/uc?id=15eVWQjexrUvX0EniEJcENZ5gG8kDByhB&confirm=t&uuid=af3170b5-a483-4fe9-be8c-401f027b28ff\n",
      "To: /kaggle/working/Dataset5K.zip\n",
      "100%|██████████| 287M/287M [00:02<00:00, 99.0MB/s] \n"
     ]
    },
    {
     "name": "stdout",
     "output_type": "stream",
     "text": [
      "Download completed!\n"
     ]
    }
   ],
   "source": [
    "import gdown\n",
    "import zipfile\n",
    "# File URL\n",
    "file_url = \"https://drive.google.com/uc?id=15eVWQjexrUvX0EniEJcENZ5gG8kDByhB\"\n",
    "\n",
    "# Output file name\n",
    "output = \"Dataset5K.zip\"  # Replace with desired filename and extension\n",
    "\n",
    "# Download the file\n",
    "gdown.download(file_url, output, quiet=False)\n",
    "print(\"Download completed!\")\n",
    "\n",
    "\n",
    "with zipfile.ZipFile('./Dataset5K.zip', 'r') as zip_ref:\n",
    "    zip_ref.extractall(data_path)"
   ]
  },
  {
   "cell_type": "code",
   "execution_count": 4,
   "metadata": {
    "execution": {
     "iopub.execute_input": "2025-05-30T07:12:41.556997Z",
     "iopub.status.busy": "2025-05-30T07:12:41.556634Z",
     "iopub.status.idle": "2025-05-30T07:12:41.563187Z",
     "shell.execute_reply": "2025-05-30T07:12:41.562339Z",
     "shell.execute_reply.started": "2025-05-30T07:12:41.556978Z"
    }
   },
   "outputs": [
    {
     "data": {
      "text/plain": [
       "['list_attribute.txt',\n",
       " 'class_identity.txt',\n",
       " 'model_saved',\n",
       " 'Images',\n",
       " 'gender_classification.csv',\n",
       " 'gender_classification.xlsx']"
      ]
     },
     "execution_count": 4,
     "metadata": {},
     "output_type": "execute_result"
    }
   ],
   "source": [
    "os.listdir(data_path)"
   ]
  },
  {
   "cell_type": "code",
   "execution_count": 5,
   "metadata": {
    "execution": {
     "iopub.execute_input": "2025-05-30T07:12:41.564235Z",
     "iopub.status.busy": "2025-05-30T07:12:41.564000Z",
     "iopub.status.idle": "2025-05-30T07:12:41.582829Z",
     "shell.execute_reply": "2025-05-30T07:12:41.582016Z",
     "shell.execute_reply.started": "2025-05-30T07:12:41.564220Z"
    }
   },
   "outputs": [],
   "source": [
    "images_list = os.listdir(data_path + '/Images')"
   ]
  },
  {
   "cell_type": "code",
   "execution_count": 6,
   "metadata": {
    "execution": {
     "iopub.execute_input": "2025-05-30T07:12:41.583917Z",
     "iopub.status.busy": "2025-05-30T07:12:41.583651Z",
     "iopub.status.idle": "2025-05-30T07:12:42.455093Z",
     "shell.execute_reply": "2025-05-30T07:12:42.454446Z",
     "shell.execute_reply.started": "2025-05-30T07:12:41.583891Z"
    }
   },
   "outputs": [
    {
     "data": {
      "text/html": [
       "<div>\n",
       "<style scoped>\n",
       "    .dataframe tbody tr th:only-of-type {\n",
       "        vertical-align: middle;\n",
       "    }\n",
       "\n",
       "    .dataframe tbody tr th {\n",
       "        vertical-align: top;\n",
       "    }\n",
       "\n",
       "    .dataframe thead th {\n",
       "        text-align: right;\n",
       "    }\n",
       "</style>\n",
       "<table border=\"1\" class=\"dataframe\">\n",
       "  <thead>\n",
       "    <tr style=\"text-align: right;\">\n",
       "      <th></th>\n",
       "      <th>Filename</th>\n",
       "      <th>Male</th>\n",
       "    </tr>\n",
       "  </thead>\n",
       "  <tbody>\n",
       "    <tr>\n",
       "      <th>0</th>\n",
       "      <td>000051.jpg</td>\n",
       "      <td>1</td>\n",
       "    </tr>\n",
       "    <tr>\n",
       "      <th>1</th>\n",
       "      <td>000052.jpg</td>\n",
       "      <td>1</td>\n",
       "    </tr>\n",
       "    <tr>\n",
       "      <th>2</th>\n",
       "      <td>000065.jpg</td>\n",
       "      <td>1</td>\n",
       "    </tr>\n",
       "    <tr>\n",
       "      <th>3</th>\n",
       "      <td>000166.jpg</td>\n",
       "      <td>1</td>\n",
       "    </tr>\n",
       "    <tr>\n",
       "      <th>4</th>\n",
       "      <td>000198.jpg</td>\n",
       "      <td>0</td>\n",
       "    </tr>\n",
       "  </tbody>\n",
       "</table>\n",
       "</div>"
      ],
      "text/plain": [
       "     Filename  Male\n",
       "0  000051.jpg     1\n",
       "1  000052.jpg     1\n",
       "2  000065.jpg     1\n",
       "3  000166.jpg     1\n",
       "4  000198.jpg     0"
      ]
     },
     "execution_count": 6,
     "metadata": {},
     "output_type": "execute_result"
    }
   ],
   "source": [
    "# load the data\n",
    "data = pd.read_csv(data_path + '/list_attribute.txt', sep='\\\\s+', skiprows=1)\n",
    "# filter the data with available images only (5000 images)\n",
    "filter_index = data.index.intersection(images_list)\n",
    "data = data.loc[filter_index]['Male'].reset_index().rename(columns={'index':'Filename'})\n",
    "data['Male'] = np.where(data['Male'] == 1, 1, 0)\n",
    "data.head()"
   ]
  },
  {
   "cell_type": "code",
   "execution_count": 7,
   "metadata": {
    "execution": {
     "iopub.execute_input": "2025-05-30T07:12:42.456162Z",
     "iopub.status.busy": "2025-05-30T07:12:42.455882Z",
     "iopub.status.idle": "2025-05-30T07:12:42.466618Z",
     "shell.execute_reply": "2025-05-30T07:12:42.465710Z",
     "shell.execute_reply.started": "2025-05-30T07:12:42.456137Z"
    }
   },
   "outputs": [
    {
     "data": {
      "text/plain": [
       "((4000, 2), (1000, 2))"
      ]
     },
     "execution_count": 7,
     "metadata": {},
     "output_type": "execute_result"
    }
   ],
   "source": [
    "# split the data into train and test sets with a 80:20 ratio\n",
    "train_data, test_data = train_test_split(data, test_size=0.2, random_state=42)\n",
    "train_data.shape, test_data.shape"
   ]
  },
  {
   "cell_type": "code",
   "execution_count": 8,
   "metadata": {
    "execution": {
     "iopub.execute_input": "2025-05-30T07:12:42.467840Z",
     "iopub.status.busy": "2025-05-30T07:12:42.467585Z",
     "iopub.status.idle": "2025-05-30T07:12:42.493845Z",
     "shell.execute_reply": "2025-05-30T07:12:42.493106Z",
     "shell.execute_reply.started": "2025-05-30T07:12:42.467807Z"
    }
   },
   "outputs": [],
   "source": [
    "class GenderDataset(Dataset):\n",
    "    def __init__(self, data, image_folder_path, transform=None):\n",
    "        self.data = data\n",
    "        self.image_folder_path = image_folder_path\n",
    "        self.transform = transform\n",
    "\n",
    "    def __len__(self):\n",
    "        return len(self.data)\n",
    "\n",
    "    def __getitem__(self, idx):\n",
    "        image_path = os.path.join(self.image_folder_path, self.data.iloc[idx, 0])\n",
    "        \n",
    "        # please define image convertion technique to RGB here\n",
    "        image = Image.open(image_path).convert('RGB')\n",
    "        \n",
    "        gender = self.data.iloc[idx, 1]\n",
    "        if self.transform:\n",
    "            image = self.transform(image)\n",
    "        return image, torch.tensor(gender, dtype=torch.long)"
   ]
  },
  {
   "cell_type": "code",
   "execution_count": 9,
   "metadata": {
    "execution": {
     "iopub.execute_input": "2025-05-30T07:12:42.496566Z",
     "iopub.status.busy": "2025-05-30T07:12:42.496303Z",
     "iopub.status.idle": "2025-05-30T07:12:42.513089Z",
     "shell.execute_reply": "2025-05-30T07:12:42.512339Z",
     "shell.execute_reply.started": "2025-05-30T07:12:42.496550Z"
    }
   },
   "outputs": [],
   "source": [
    "train_transform = transforms.Compose([\n",
    "    transforms.Resize((224, 224)),                 # Resize to match model input size\n",
    "    transforms.RandomHorizontalFlip(),             # Randomly flip images horizontally\n",
    "    transforms.RandomRotation(10),                 # Random rotation between -10 and 10 degrees\n",
    "    transforms.ColorJitter(brightness=0.2,         # Random brightness, contrast, saturation\n",
    "                           contrast=0.2,\n",
    "                           saturation=0.2,\n",
    "                           hue=0.1),\n",
    "    transforms.ToTensor(),                         # Convert PIL image to PyTorch tensor\n",
    "    transforms.Normalize(mean=[0.485, 0.456, 0.406],  # Normalize using ImageNet stats\n",
    "                         std=[0.229, 0.224, 0.225])\n",
    "])\n",
    "\n",
    "test_transform = transforms.Compose([\n",
    "    transforms.Resize((224, 224)),  # Resize to match model input\n",
    "    transforms.ToTensor(),\n",
    "    transforms.Normalize(mean=[0.485, 0.456, 0.406],  # Same as training\n",
    "                         std=[0.229, 0.224, 0.225])\n",
    "])"
   ]
  },
  {
   "cell_type": "code",
   "execution_count": 10,
   "metadata": {
    "execution": {
     "iopub.execute_input": "2025-05-30T07:12:42.514139Z",
     "iopub.status.busy": "2025-05-30T07:12:42.513908Z",
     "iopub.status.idle": "2025-05-30T07:12:42.531524Z",
     "shell.execute_reply": "2025-05-30T07:12:42.530623Z",
     "shell.execute_reply.started": "2025-05-30T07:12:42.514123Z"
    }
   },
   "outputs": [],
   "source": [
    "train_set = GenderDataset(train_data, image_folder_path=os.path.join(data_path, \"Images\"), transform=train_transform)\n",
    "train_loader = DataLoader(train_set, batch_size=32, shuffle=True, num_workers=0)\n",
    "\n",
    "test_set = GenderDataset(test_data, os.path.join(data_path, \"Images\"), transform=test_transform)\n",
    "test_loader = DataLoader(test_set, batch_size=32, shuffle=False, num_workers=0)"
   ]
  },
  {
   "cell_type": "code",
   "execution_count": 11,
   "metadata": {
    "execution": {
     "iopub.execute_input": "2025-05-30T07:12:42.532819Z",
     "iopub.status.busy": "2025-05-30T07:12:42.532453Z",
     "iopub.status.idle": "2025-05-30T07:12:43.328019Z",
     "shell.execute_reply": "2025-05-30T07:12:43.327178Z",
     "shell.execute_reply.started": "2025-05-30T07:12:42.532795Z"
    }
   },
   "outputs": [
    {
     "data": {
      "image/png": "[encoded data removed]",
      "text/plain": [
       "<Figure size 640x480 with 1 Axes>"
      ]
     },
     "metadata": {},
     "output_type": "display_data"
    }
   ],
   "source": [
    "def imshow(inp, title=None):\n",
    "    \"\"\"Imshow for Tensor.\"\"\"\n",
    "    inp = inp.numpy().transpose((1, 2, 0))\n",
    "    mean = np.array([0.485, 0.456, 0.406])\n",
    "    std = np.array([0.229, 0.224, 0.225])\n",
    "    inp = std * inp + mean\n",
    "    inp = np.clip(inp, 0, 1)\n",
    "    plt.imshow(inp)\n",
    "    if title is not None:\n",
    "        plt.title(title)\n",
    "    plt.pause(0.001)  # pause a bit so that plots are updated\n",
    "\n",
    "\n",
    "# Get a batch of training data\n",
    "inputs, classes = next(iter(train_loader))\n",
    "# limit to 8 images only\n",
    "inputs = inputs[:8]\n",
    "classes = classes[:8]\n",
    "# Make a grid from batch\n",
    "out = torchvision.utils.make_grid(inputs)\n",
    "\n",
    "class_names = ['female', 'male']\n",
    "imshow(out, title=[class_names[x] for x in classes])"
   ]
  },
  {
   "cell_type": "markdown",
   "metadata": {},
   "source": [
    "# Modeling"
   ]
  },
  {
   "cell_type": "code",
   "execution_count": 12,
   "metadata": {
    "execution": {
     "iopub.execute_input": "2025-05-30T07:12:43.329347Z",
     "iopub.status.busy": "2025-05-30T07:12:43.328969Z",
     "iopub.status.idle": "2025-05-30T07:12:43.428530Z",
     "shell.execute_reply": "2025-05-30T07:12:43.427671Z",
     "shell.execute_reply.started": "2025-05-30T07:12:43.329282Z"
    }
   },
   "outputs": [],
   "source": [
    "import time\n",
    "from torch.autograd import Variable\n",
    "\n",
    "def train_model(model, dataloaders, dataset_sizes, criterion, optimizer, use_gpu=torch.cuda.is_available(), num_epochs=10):\n",
    "    # please define the training model (VGG/GoogleNet/ResNet) here\n",
    "    since = time.time()\n",
    "\n",
    "    best_model_wts = model.state_dict()\n",
    "    best_acc = 0.0\n",
    "    best_epoch = 0\n",
    "\n",
    "    acc_histories = []\n",
    "    for epoch in range(num_epochs):\n",
    "        epoch_start = time.time()\n",
    "        print('Epoch {}/{}'.format(epoch, num_epochs - 1))\n",
    "        print('-' * 10)\n",
    "        acc_history = { 'train': 0, 'test': 0 }\n",
    "        # Each epoch has a training and validation phase\n",
    "        for phase in ['train', 'test']:\n",
    "            if phase == 'train':\n",
    "                #scheduler.step()\n",
    "                model.train(True)  # Set model to training mode\n",
    "            else:\n",
    "                model.train(False)  # Set model to evaluate mode\n",
    "            running_loss = 0.0\n",
    "            running_corrects = 0\n",
    "            # Iterate over data.\n",
    "            for data in dataloders[phase]:\n",
    "                 # get the inputs\n",
    "                inputs, labels = data\n",
    "                # wrap them in Variable\n",
    "                if use_gpu:\n",
    "                    inputs = Variable(inputs.cuda())\n",
    "                    labels = Variable(labels.cuda())\n",
    "                else:\n",
    "                    inputs, labels = Variable(inputs), Variable(labels)\n",
    "\n",
    "                 # zero the parameter gradients\n",
    "                optimizer.zero_grad()\n",
    "\n",
    "                # forward\n",
    "                outputs = model(inputs)\n",
    "\n",
    "                #resnet\n",
    "                _, preds = torch.max(outputs.data, 1)\n",
    "                loss = criterion(outputs, labels)\n",
    "                \n",
    "\n",
    "                # backward + optimize only if in training phase\n",
    "                if phase == 'train':\n",
    "                    \n",
    "                    loss.backward()\n",
    "                    optimizer.step()\n",
    "                    \n",
    "                 # statistics\n",
    "                running_loss += loss.data\n",
    "                running_corrects += torch.sum(preds == labels.data)\n",
    "            epoch_loss = running_loss / dataset_sizes[phase]\n",
    "            epoch_acc = running_corrects.float() / dataset_sizes[phase]\n",
    "\n",
    "            print('{} Loss: {:.4f} Acc: {:.4f}'.format(\n",
    "                phase, epoch_loss, epoch_acc))\n",
    "            acc_history[phase] = round(epoch_acc.item(), 4)\n",
    "            \n",
    "            # deep copy the model\n",
    "            if phase == 'test' and epoch_acc > best_acc:\n",
    "                best_acc = epoch_acc\n",
    "                best_model_wts = model.state_dict()\n",
    "                state = {'model':model.state_dict(),'optim':optimizer.state_dict()}\n",
    "                torch.save(state, os.path.join(model_path, model_name))\n",
    "                best_epoch = epoch\n",
    "                print(f'✅ Best model saved! (Accuracy: {best_acc:.4f})')\n",
    "        acc_histories.append(acc_history)\n",
    "        print()\n",
    "        \n",
    "    time_elapsed = time.time() - since\n",
    "    print('Training complete in {:.0f}m {:.0f}s'.format(\n",
    "        time_elapsed // 60, time_elapsed % 60))\n",
    "    print('Best test Acc: {:4f}'.format(best_acc))\n",
    "\n",
    "    # load best model weights\n",
    "    model.load_state_dict(best_model_wts)\n",
    "    return model, acc_histories, best_acc, time_elapsed, best_epoch"
   ]
  },
  {
   "cell_type": "code",
   "execution_count": 13,
   "metadata": {
    "execution": {
     "iopub.execute_input": "2025-05-30T07:12:43.429742Z",
     "iopub.status.busy": "2025-05-30T07:12:43.429478Z",
     "iopub.status.idle": "2025-05-30T07:12:43.447856Z",
     "shell.execute_reply": "2025-05-30T07:12:43.447012Z",
     "shell.execute_reply.started": "2025-05-30T07:12:43.429717Z"
    }
   },
   "outputs": [],
   "source": [
    "dataloders = {\n",
    "    \"train\":train_loader, \"test\":test_loader\n",
    "}\n",
    "dataset_sizes= {\n",
    "    \"train\":len(train_set), \"test\":len(test_set)\n",
    "}"
   ]
  },
  {
   "cell_type": "code",
   "execution_count": 14,
   "metadata": {
    "execution": {
     "iopub.execute_input": "2025-05-30T07:12:43.448969Z",
     "iopub.status.busy": "2025-05-30T07:12:43.448675Z",
     "iopub.status.idle": "2025-05-30T07:12:44.593103Z",
     "shell.execute_reply": "2025-05-30T07:12:44.592490Z",
     "shell.execute_reply.started": "2025-05-30T07:12:43.448943Z"
    }
   },
   "outputs": [
    {
     "name": "stderr",
     "output_type": "stream",
     "text": [
      "Downloading: \"https://download.pytorch.org/models/resnet18-f37072fd.pth\" to /root/.cache/torch/hub/checkpoints/resnet18-f37072fd.pth\n",
      "100%|██████████| 44.7M/44.7M [00:00<00:00, 78.3MB/s]\n"
     ]
    }
   ],
   "source": [
    "\n",
    "model = models.resnet18(weights=models.ResNet18_Weights.DEFAULT)\n",
    "# model = models.resnet18()\n",
    "\n",
    "num_ftrs = model.fc.in_features\n",
    "model.fc = nn.Linear(num_ftrs, 2)  # for 2 output classes: male/female\n",
    "\n",
    "use_gpu = torch.cuda.is_available()\n",
    "# use_gpu = False\n",
    "if use_gpu:\n",
    "  model = model.to(\"cuda\")\n",
    "    \n",
    "optimizer = optim.Adam(model.parameters(), lr=0.0001)\n",
    "criterion = nn.CrossEntropyLoss()\n"
   ]
  },
  {
   "cell_type": "code",
   "execution_count": 15,
   "metadata": {
    "execution": {
     "iopub.execute_input": "2025-05-30T07:12:44.593974Z",
     "iopub.status.busy": "2025-05-30T07:12:44.593765Z",
     "iopub.status.idle": "2025-05-30T07:30:26.136757Z",
     "shell.execute_reply": "2025-05-30T07:30:26.136015Z",
     "shell.execute_reply.started": "2025-05-30T07:12:44.593958Z"
    }
   },
   "outputs": [
    {
     "name": "stdout",
     "output_type": "stream",
     "text": [
      "Epoch 0/29\n",
      "----------\n",
      "train Loss: 0.0065 Acc: 0.9125\n",
      "test Loss: 0.0035 Acc: 0.9640\n",
      "✅ Best model saved! (Accuracy: 0.9640)\n",
      "\n",
      "Epoch 1/29\n",
      "----------\n",
      "train Loss: 0.0030 Acc: 0.9620\n",
      "test Loss: 0.0033 Acc: 0.9740\n",
      "✅ Best model saved! (Accuracy: 0.9740)\n",
      "\n",
      "Epoch 2/29\n",
      "----------\n",
      "train Loss: 0.0023 Acc: 0.9708\n",
      "test Loss: 0.0031 Acc: 0.9690\n",
      "\n",
      "Epoch 3/29\n",
      "----------\n",
      "train Loss: 0.0014 Acc: 0.9850\n",
      "test Loss: 0.0027 Acc: 0.9710\n",
      "\n",
      "Epoch 4/29\n",
      "----------\n",
      "train Loss: 0.0013 Acc: 0.9870\n",
      "test Loss: 0.0023 Acc: 0.9810\n",
      "✅ Best model saved! (Accuracy: 0.9810)\n",
      "\n",
      "Epoch 5/29\n",
      "----------\n",
      "train Loss: 0.0012 Acc: 0.9865\n",
      "test Loss: 0.0031 Acc: 0.9700\n",
      "\n",
      "Epoch 6/29\n",
      "----------\n",
      "train Loss: 0.0010 Acc: 0.9870\n",
      "test Loss: 0.0028 Acc: 0.9790\n",
      "\n",
      "Epoch 7/29\n",
      "----------\n",
      "train Loss: 0.0006 Acc: 0.9933\n",
      "test Loss: 0.0027 Acc: 0.9790\n",
      "\n",
      "Epoch 8/29\n",
      "----------\n",
      "train Loss: 0.0008 Acc: 0.9898\n",
      "test Loss: 0.0040 Acc: 0.9680\n",
      "\n",
      "Epoch 9/29\n",
      "----------\n",
      "train Loss: 0.0005 Acc: 0.9945\n",
      "test Loss: 0.0025 Acc: 0.9820\n",
      "✅ Best model saved! (Accuracy: 0.9820)\n",
      "\n",
      "Epoch 10/29\n",
      "----------\n",
      "train Loss: 0.0003 Acc: 0.9978\n",
      "test Loss: 0.0025 Acc: 0.9760\n",
      "\n",
      "Epoch 11/29\n",
      "----------\n",
      "train Loss: 0.0003 Acc: 0.9970\n",
      "test Loss: 0.0032 Acc: 0.9740\n",
      "\n",
      "Epoch 12/29\n",
      "----------\n",
      "train Loss: 0.0007 Acc: 0.9910\n",
      "test Loss: 0.0028 Acc: 0.9820\n",
      "\n",
      "Epoch 13/29\n",
      "----------\n",
      "train Loss: 0.0003 Acc: 0.9985\n",
      "test Loss: 0.0031 Acc: 0.9760\n",
      "\n",
      "Epoch 14/29\n",
      "----------\n",
      "train Loss: 0.0004 Acc: 0.9953\n",
      "test Loss: 0.0034 Acc: 0.9760\n",
      "\n",
      "Epoch 15/29\n",
      "----------\n",
      "train Loss: 0.0004 Acc: 0.9943\n",
      "test Loss: 0.0038 Acc: 0.9700\n",
      "\n",
      "Epoch 16/29\n",
      "----------\n",
      "train Loss: 0.0004 Acc: 0.9950\n",
      "test Loss: 0.0029 Acc: 0.9760\n",
      "\n",
      "Epoch 17/29\n",
      "----------\n",
      "train Loss: 0.0006 Acc: 0.9935\n",
      "test Loss: 0.0052 Acc: 0.9600\n",
      "\n",
      "Epoch 18/29\n",
      "----------\n",
      "train Loss: 0.0003 Acc: 0.9963\n",
      "test Loss: 0.0027 Acc: 0.9810\n",
      "\n",
      "Epoch 19/29\n",
      "----------\n",
      "train Loss: 0.0001 Acc: 0.9993\n",
      "test Loss: 0.0023 Acc: 0.9850\n",
      "✅ Best model saved! (Accuracy: 0.9850)\n",
      "\n",
      "Epoch 20/29\n",
      "----------\n",
      "train Loss: 0.0001 Acc: 0.9988\n",
      "test Loss: 0.0025 Acc: 0.9830\n",
      "\n",
      "Epoch 21/29\n",
      "----------\n",
      "train Loss: 0.0002 Acc: 0.9983\n",
      "test Loss: 0.0031 Acc: 0.9820\n",
      "\n",
      "Epoch 22/29\n",
      "----------\n",
      "train Loss: 0.0005 Acc: 0.9938\n",
      "test Loss: 0.0030 Acc: 0.9790\n",
      "\n",
      "Epoch 23/29\n",
      "----------\n",
      "train Loss: 0.0004 Acc: 0.9958\n",
      "test Loss: 0.0035 Acc: 0.9770\n",
      "\n",
      "Epoch 24/29\n",
      "----------\n",
      "train Loss: 0.0004 Acc: 0.9958\n",
      "test Loss: 0.0029 Acc: 0.9780\n",
      "\n",
      "Epoch 25/29\n",
      "----------\n",
      "train Loss: 0.0001 Acc: 0.9985\n",
      "test Loss: 0.0069 Acc: 0.9540\n",
      "\n",
      "Epoch 26/29\n",
      "----------\n",
      "train Loss: 0.0003 Acc: 0.9960\n",
      "test Loss: 0.0038 Acc: 0.9770\n",
      "\n",
      "Epoch 27/29\n",
      "----------\n",
      "train Loss: 0.0003 Acc: 0.9963\n",
      "test Loss: 0.0031 Acc: 0.9730\n",
      "\n",
      "Epoch 28/29\n",
      "----------\n",
      "train Loss: 0.0004 Acc: 0.9955\n",
      "test Loss: 0.0027 Acc: 0.9850\n",
      "\n",
      "Epoch 29/29\n",
      "----------\n",
      "train Loss: 0.0002 Acc: 0.9973\n",
      "test Loss: 0.0026 Acc: 0.9830\n",
      "\n",
      "Training complete in 17m 42s\n",
      "Best test Acc: 0.985000\n"
     ]
    }
   ],
   "source": [
    "model, acc_histories, best_acc, time_elapsed, best_epoch = train_model(model, dataloders, dataset_sizes, criterion, optimizer, use_gpu, 30)"
   ]
  },
  {
   "cell_type": "code",
   "execution_count": 16,
   "metadata": {
    "execution": {
     "iopub.execute_input": "2025-05-30T07:30:26.137824Z",
     "iopub.status.busy": "2025-05-30T07:30:26.137558Z",
     "iopub.status.idle": "2025-05-30T07:30:26.540398Z",
     "shell.execute_reply": "2025-05-30T07:30:26.539704Z",
     "shell.execute_reply.started": "2025-05-30T07:30:26.137805Z"
    }
   },
   "outputs": [
    {
     "data": {
      "image/png": "[encoded data removed]",
      "text/plain": [
       "<Figure size 640x480 with 1 Axes>"
      ]
     },
     "metadata": {},
     "output_type": "display_data"
    }
   ],
   "source": [
    "train_values = np.array([item['train'] for item in acc_histories])\n",
    "test_values = np.array([item['test'] for item in acc_histories])\n",
    "import matplotlib.pyplot as plt\n",
    "\n",
    "# Plot training and validation accuracy\n",
    "plt.plot(train_values, label='Training Accuracy')\n",
    "plt.plot(test_values, label='Validation Accuracy')\n",
    "plt.title('Training and Validation Accuracy')\n",
    "plt.xlabel('Epoch')\n",
    "plt.ylabel('Accuracy')\n",
    "plt.ylim(0.5, 1.00)\n",
    "plt.legend()\n",
    "plt.savefig(os.path.join(eval_path, model_name + '_train_acc.png'), dpi=300)\n",
    "plt.show()"
   ]
  },
  {
   "cell_type": "code",
   "execution_count": 17,
   "metadata": {
    "execution": {
     "iopub.execute_input": "2025-05-30T07:30:26.541408Z",
     "iopub.status.busy": "2025-05-30T07:30:26.541119Z",
     "iopub.status.idle": "2025-05-30T07:30:26.552053Z",
     "shell.execute_reply": "2025-05-30T07:30:26.551302Z",
     "shell.execute_reply.started": "2025-05-30T07:30:26.541388Z"
    }
   },
   "outputs": [],
   "source": [
    "df = pd.DataFrame({'train': train_values, 'test': test_values})\n",
    "df.to_csv(os.path.join(eval_path, model_name + '_train_acc.csv'))"
   ]
  },
  {
   "cell_type": "code",
   "execution_count": 18,
   "metadata": {
    "execution": {
     "iopub.execute_input": "2025-05-30T07:30:26.552897Z",
     "iopub.status.busy": "2025-05-30T07:30:26.552714Z",
     "iopub.status.idle": "2025-05-30T07:30:26.566274Z",
     "shell.execute_reply": "2025-05-30T07:30:26.565737Z",
     "shell.execute_reply.started": "2025-05-30T07:30:26.552883Z"
    }
   },
   "outputs": [],
   "source": [
    "df_sum = pd.DataFrame({'mode': [model_name], \n",
    "                       'device': [torch.cuda.get_device_name(0)], \n",
    "                       'time_elapsed' : [time_elapsed],\n",
    "                       'best_epoch': [best_epoch],\n",
    "                       'best_acc': [best_acc.cpu().item()]})\n",
    "df_sum.to_csv(os.path.join(eval_path, model_name + '_train_sum.csv'))"
   ]
  }
 ],
 "metadata": {
  "kaggle": {
   "accelerator": "nvidiaTeslaT4",
   "dataSources": [],
   "dockerImageVersionId": 31041,
   "isGpuEnabled": true,
   "isInternetEnabled": true,
   "language": "python",
   "sourceType": "notebook"
  },
  "kernelspec": {
   "display_name": "Python 3 (ipykernel)",
   "language": "python",
   "name": "python3"
  },
  "language_info": {
   "codemirror_mode": {
    "name": "ipython",
    "version": 3
   },
   "file_extension": ".py",
   "mimetype": "text/x-python",
   "name": "python",
   "nbconvert_exporter": "python",
   "pygments_lexer": "ipython3",
   "version": "3.11.11"
  }
 },
 "nbformat": 4,
 "nbformat_minor": 4
}
